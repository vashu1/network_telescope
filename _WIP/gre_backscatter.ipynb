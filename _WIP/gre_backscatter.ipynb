{
 "cells": [
  {
   "cell_type": "code",
   "execution_count": 12,
   "metadata": {},
   "outputs": [
    {
     "name": "stdout",
     "output_type": "stream",
     "text": [
      "['icmp/ICMP_2019-09-05_to_172.31.21.94.pcap', 'icmp/ICMP_2019-09-06_to_172.31.21.94.pcap', 'icmp/ICMP_2019-09-07_to_172.31.21.94.pcap', 'icmp/ICMP_2019-09-08_to_172.31.21.94.pcap', 'icmp/ICMP_2019-09-09_to_172.31.21.94.pcap']\n"
     ]
    }
   ],
   "source": [
    "import os\n",
    "import pathlib\n",
    "pcap_fnames = [str(pathlib.Path(root) / file) for root, subdirs, files in os.walk('./icmp') for file in files if file.endswith('.pcap')]\n",
    "pcap_fnames.sort()\n",
    "print(pcap_fnames[:5])\n",
    "\n",
    "def fname_to_day_and_honeypot_ip(fname):  # TODO move to utils\n",
    "    # 'icmp/ICMP_2019-09-05_to_172.31.21.94.pcap' -> ['2019-09-05', '172.31.21.94']\n",
    "    return fname.replace('.pcap', '').split('ICMP_')[1].split('_to_')"
   ]
  },
  {
   "cell_type": "code",
   "execution_count": 13,
   "metadata": {},
   "outputs": [],
   "source": [
    "from pypacker import ppcap\n",
    "from pypacker.layer12 import ethernet\n",
    "from pypacker.layer3 import ip\n",
    "from pypacker.layer4 import tcp\n",
    "from pypacker.layer4 import udp\n",
    "from pypacker.layer3 import icmp\n",
    "from collections import Counter"
   ]
  },
  {
   "cell_type": "code",
   "execution_count": 14,
   "metadata": {},
   "outputs": [],
   "source": [
    "pwriter = ppcap.Writer(filename='icmp_all.pcap', linktype=ppcap.DLT_EN10MB)\n",
    "\n",
    "for fname in pcap_fnames:\n",
    "    day, honeypot_ip = fname_to_day_and_honeypot_ip(fname)\n",
    "    preader = ppcap.Reader(filename=fname)\n",
    "    for ts, buf in preader:\n",
    "        eth = ethernet.Ethernet(buf)\n",
    "        if eth[ethernet.Ethernet, ip.IP] is not None:\n",
    "            #if eth[ip.IP].src_s == honeypot_ip:\n",
    "            #    continue  # skip packets emitted by honeypot\n",
    "            pwriter.write(eth.bin())                    \n",
    "\n",
    "pwriter.close()"
   ]
  },
  {
   "cell_type": "code",
   "execution_count": 11,
   "metadata": {},
   "outputs": [],
   "source": []
  }
 ],
 "metadata": {
  "kernelspec": {
   "display_name": "python38",
   "language": "python",
   "name": "python38"
  },
  "language_info": {
   "codemirror_mode": {
    "name": "ipython",
    "version": 3
   },
   "file_extension": ".py",
   "mimetype": "text/x-python",
   "name": "python",
   "nbconvert_exporter": "python",
   "pygments_lexer": "ipython3",
   "version": "3.8.11"
  }
 },
 "nbformat": 4,
 "nbformat_minor": 4
}
