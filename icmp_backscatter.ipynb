{
 "cells": [
  {
   "cell_type": "code",
   "execution_count": 1,
   "metadata": {},
   "outputs": [
    {
     "name": "stdout",
     "output_type": "stream",
     "text": [
      "IP2LOCATION-LITE-DB1.CSV upload can take up to a minute!\n"
     ]
    }
   ],
   "source": [
    "import utils.ip2country"
   ]
  },
  {
   "cell_type": "code",
   "execution_count": 2,
   "metadata": {},
   "outputs": [
    {
     "name": "stdout",
     "output_type": "stream",
     "text": [
      "[]\n"
     ]
    }
   ],
   "source": [
    "import os\n",
    "import pathlib\n",
    "pcap_fnames = [str(pathlib.Path(root) / file) for root, subdirs, files in os.walk('./pcaps') for file in files if file.endswith('.pcap')]\n",
    "pcap_fnames.sort()\n",
    "print(pcap_fnames[:5])"
   ]
  },
  {
   "cell_type": "code",
   "execution_count": 3,
   "metadata": {},
   "outputs": [],
   "source": [
    "def fname_to_day_and_honeypot_ip(fname):  # TODO move to utils\n",
    "    # 'pcaps/2019-09-05_to_172.31.21.94.pcap' -> ['2019-09-05', '172.31.21.94']\n",
    "    return fname.replace('.pcap', '').split('/')[1].split('_to_')"
   ]
  },
  {
   "cell_type": "code",
   "execution_count": 32,
   "metadata": {},
   "outputs": [],
   "source": [
    "from pypacker import ppcap\n",
    "from pypacker.layer12 import ethernet\n",
    "from pypacker.layer3 import ip\n",
    "from pypacker.layer4 import tcp\n",
    "from pypacker.layer4 import udp\n",
    "from pypacker.layer3 import icmp\n",
    "from collections import Counter"
   ]
  },
  {
   "cell_type": "code",
   "execution_count": 25,
   "metadata": {},
   "outputs": [],
   "source": [
    "day_country_stats = Counter()\n",
    "icmp_type_stats = Counter()\n",
    "\n",
    "for fname in pcap_fnames:\n",
    "    day, honeypot_ip = fname_to_day_and_honeypot_ip(fname)\n",
    "    preader = ppcap.Reader(filename=fname)\n",
    "    for ts, buf in preader:\n",
    "        eth = ethernet.Ethernet(buf)\n",
    "        if eth[ethernet.Ethernet, ip.IP] is not None:\n",
    "            if eth[ip.IP].src_s == honeypot_ip:\n",
    "                continue  # skip packets emitted by honeypot\n",
    "            if eth[icmp.ICMP] is not None:\n",
    "                # see https://gitlab.com/mike01/pypacker/-/blob/master/pypacker/layer3/icmp.py\n",
    "                if eth[icmp.ICMP].type not in {icmp.ICMP_ECHO_REPLY, icmp.ICMP_UNREACH, icmp.ICMP_ECHO}:\n",
    "                    icmp_type_stats[eth[icmp.ICMP].type] += 1\n",
    "                    src_ip = eth[ip.IP].src_s\n",
    "                    country = utils.ip2country.get_ip_country(src_ip)\n",
    "                    if not country:\n",
    "                        continue  # skip packets with unknown country\n",
    "                    day_country_stats[f'{day} {country}'] += 1"
   ]
  },
  {
   "cell_type": "code",
   "execution_count": 31,
   "metadata": {},
   "outputs": [
    {
     "data": {
      "text/plain": [
       "[('2020-01-04 IN', 267),\n",
       " ('2021-01-25 BR', 197),\n",
       " ('2020-03-16 IN', 193),\n",
       " ('2020-01-03 IN', 176),\n",
       " ('2020-03-17 IN', 140),\n",
       " ('2020-01-04 BD', 118),\n",
       " ('2020-03-16 ID', 112),\n",
       " ('2020-01-04 ID', 99),\n",
       " ('2020-03-18 IN', 92),\n",
       " ('2020-03-14 US', 76),\n",
       " ('2020-01-03 BD', 70),\n",
       " ('2020-03-16 BD', 69),\n",
       " ('2020-03-17 ID', 66),\n",
       " ('2020-01-03 ID', 62),\n",
       " ('2020-02-01 US', 60),\n",
       " ('2020-01-31 US', 57),\n",
       " ('2020-12-17 BR', 53),\n",
       " ('2020-03-15 IN', 51),\n",
       " ('2020-03-11 US', 46),\n",
       " ('2020-03-17 BD', 43),\n",
       " ('2020-03-15 ID', 40),\n",
       " ('2020-03-18 ID', 40),\n",
       " ('2020-01-04 AU', 35),\n",
       " ('2020-01-31 ZA', 35),\n",
       " ('2020-03-24 US', 34),\n",
       " ('2020-03-18 BD', 33),\n",
       " ('2020-12-18 BR', 33),\n",
       " ('2020-12-17 US', 32),\n",
       " ('2020-03-16 US', 31),\n",
       " ('2020-02-01 ZA', 30)]"
      ]
     },
     "execution_count": 31,
     "metadata": {},
     "output_type": "execute_result"
    }
   ],
   "source": [
    "day_country_stats.most_common(30)"
   ]
  },
  {
   "cell_type": "code",
   "execution_count": 30,
   "metadata": {},
   "outputs": [
    {
     "name": "stdout",
     "output_type": "stream",
     "text": [
      "2019-09-28 IR 1\n",
      "2019-11-02 IR 1\n",
      "2019-11-21 IR 4\n",
      "2019-11-26 IR 1\n",
      "2019-12-11 IR 1\n",
      "2020-01-21 IR 3\n",
      "2020-02-16 IR 1\n",
      "2020-03-06 IR 1\n",
      "2020-03-07 IR 1\n",
      "2020-03-09 IR 1\n",
      "2020-03-14 IR 3\n",
      "2020-03-15 IR 5\n",
      "2020-09-08 IR 1\n",
      "2020-10-23 IR 9\n",
      "2020-10-26 IR 9\n",
      "2020-10-28 IR 8\n",
      "2020-12-17 IR 3\n",
      "2020-12-18 IR 1\n",
      "2021-01-12 IR 1\n",
      "2021-01-23 IR 1\n",
      "2021-01-25 IR 1\n",
      "2021-02-23 IR 3\n",
      "2021-04-16 IR 4\n",
      "2021-07-13 IR 1\n",
      "2021-07-21 IR 1\n",
      "2021-08-11 IR 1\n"
     ]
    }
   ],
   "source": [
    "for dc in day_country_stats:\n",
    "    if 'IR' in dc:\n",
    "        print(dc, day_country_stats[dc])"
   ]
  }
 ],
 "metadata": {
  "kernelspec": {
   "display_name": "python38",
   "language": "python",
   "name": "python38"
  },
  "language_info": {
   "codemirror_mode": {
    "name": "ipython",
    "version": 3
   },
   "file_extension": ".py",
   "mimetype": "text/x-python",
   "name": "python",
   "nbconvert_exporter": "python",
   "pygments_lexer": "ipython3",
   "version": "3.8.11"
  }
 },
 "nbformat": 4,
 "nbformat_minor": 4
}
